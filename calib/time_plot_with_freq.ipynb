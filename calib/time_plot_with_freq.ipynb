{
 "cells": [
  {
   "cell_type": "code",
   "execution_count": 1,
   "metadata": {
    "collapsed": true
   },
   "outputs": [],
   "source": [
    "import numpy as np\n",
    "import pandas as pd\n",
    "from scipy import pi\n",
    "import matplotlib.pyplot as plt\n",
    "from scipy import fftpack\n",
    "from scipy import hamming\n",
    "from scipy import signal\n",
    "import os\n",
    "%matplotlib inline"
   ]
  },
  {
   "cell_type": "code",
   "execution_count": 2,
   "metadata": {},
   "outputs": [
    {
     "data": {
      "text/plain": [
       "<matplotlib.figure.Figure at 0x109ed6c50>"
      ]
     },
     "metadata": {},
     "output_type": "display_data"
    }
   ],
   "source": [
    "file = \"gestures\"\n",
    "N = 5\n",
    "plt.figure(num=1, figsize=(16, 16))\n",
    "for root, dirs, files in os.walk(\"../gear_data/\" + file):\n",
    "    print(root)\n",
    "    length = len(files)\n",
    "    for i, filename in enumerate(files):\n",
    "        print(filename)\n",
    "        data = pd.read_csv(root + '/' +filename)\n",
    "        weights = np.ones(N) / N\n",
    "        data = np.convolve(data.A, weights, mode='valid')\n",
    "        x = np.arange(data.size)\n",
    "        grad = np.gradient(data, x)\n",
    "        plt.subplot(length, 1, (i+1))\n",
    "        plt.title(filename)\n",
    "        plt.plot(grad)\n",
    "plt.show()\n",
    "# plt.savefig(file+\"_time_grad.pdf\", quality=100)"
   ]
  },
  {
   "cell_type": "code",
   "execution_count": 1,
   "metadata": {},
   "outputs": [
    {
     "ename": "NameError",
     "evalue": "name 'plt' is not defined",
     "traceback": [
      "\u001b[0;31m---------------------------------------------------------------------------\u001b[0m",
      "\u001b[0;31mNameError\u001b[0m                                 Traceback (most recent call last)",
      "\u001b[0;32m<ipython-input-1-e31448a97973>\u001b[0m in \u001b[0;36m<module>\u001b[0;34m()\u001b[0m\n\u001b[1;32m      1\u001b[0m \u001b[0mfile\u001b[0m \u001b[0;34m=\u001b[0m \u001b[0;34m\"transitions\"\u001b[0m\u001b[0;34m\u001b[0m\u001b[0m\n\u001b[1;32m      2\u001b[0m \u001b[0mindex\u001b[0m \u001b[0;34m=\u001b[0m \u001b[0;36m1\u001b[0m\u001b[0;34m\u001b[0m\u001b[0m\n\u001b[0;32m----> 3\u001b[0;31m \u001b[0mplt\u001b[0m\u001b[0;34m.\u001b[0m\u001b[0mfigure\u001b[0m\u001b[0;34m(\u001b[0m\u001b[0mnum\u001b[0m\u001b[0;34m=\u001b[0m\u001b[0;36m1\u001b[0m\u001b[0;34m,\u001b[0m \u001b[0mfigsize\u001b[0m\u001b[0;34m=\u001b[0m\u001b[0;34m(\u001b[0m\u001b[0;36m16\u001b[0m\u001b[0;34m,\u001b[0m \u001b[0;36m64\u001b[0m\u001b[0;34m)\u001b[0m\u001b[0;34m)\u001b[0m\u001b[0;34m\u001b[0m\u001b[0m\n\u001b[0m\u001b[1;32m      4\u001b[0m \u001b[0;32mfor\u001b[0m \u001b[0mroot\u001b[0m\u001b[0;34m,\u001b[0m \u001b[0mdirs\u001b[0m\u001b[0;34m,\u001b[0m \u001b[0mfiles\u001b[0m \u001b[0;32min\u001b[0m \u001b[0mos\u001b[0m\u001b[0;34m.\u001b[0m\u001b[0mwalk\u001b[0m\u001b[0;34m(\u001b[0m\u001b[0;34m\"../gear_data/\"\u001b[0m \u001b[0;34m+\u001b[0m \u001b[0mfile\u001b[0m\u001b[0;34m)\u001b[0m\u001b[0;34m:\u001b[0m\u001b[0;34m\u001b[0m\u001b[0m\n\u001b[1;32m      5\u001b[0m     \u001b[0mprint\u001b[0m\u001b[0;34m(\u001b[0m\u001b[0mroot\u001b[0m\u001b[0;34m)\u001b[0m\u001b[0;34m\u001b[0m\u001b[0m\n",
      "\u001b[0;31mNameError\u001b[0m: name 'plt' is not defined"
     ],
     "output_type": "error"
    }
   ],
   "source": [
    "file = \"transitions\"\n",
    "index = 1\n",
    "plt.figure(num=1, figsize=(16, 64))\n",
    "for root, dirs, files in os.walk(\"../gear_data/\" + file):\n",
    "    print(root)\n",
    "    length = len(files)\n",
    "    for i, filename in enumerate(files):\n",
    "        data = pd.read_csv(root + '/' +filename)\n",
    "\n",
    "        f, t, Sxx = signal.spectrogram(data.A, fs=10, nperseg=8, noverlap=7, mode='psd')\n",
    "\n",
    "        plt.figure(num=i+1, figsize=(16, 8))\n",
    "        plt.subplot(i+1, 4, index)\n",
    "        plt.pcolormesh(t, f, Sxx)\n",
    "        plt.title(\"8 frames\")\n",
    "        plt.ylabel('Frequency [Hz]')\n",
    "        plt.xlabel('Time [sec]')\n",
    "        index = index + 1\n",
    "\n",
    "        f, t, Sxx = signal.spectrogram(data.A, fs=10, nperseg=16, noverlap=15, mode='psd')\n",
    "        plt.subplot(i+1, 4, index)\n",
    "        plt.pcolormesh(t, f, Sxx)\n",
    "        plt.title(\"16 frames\")\n",
    "        plt.ylabel('Frequency [Hz]')\n",
    "        plt.xlabel('Time [sec]')\n",
    "        index = index + 1\n",
    "\n",
    "        f, t, Sxx = signal.spectrogram(data.A, fs=10, nperseg=32, noverlap=31, mode='psd')\n",
    "        plt.subplot(i+1, 4, index)\n",
    "        plt.pcolormesh(t, f, Sxx)\n",
    "        plt.title(\"32 frames\")\n",
    "        plt.ylabel('Frequency [Hz]')\n",
    "        plt.xlabel('Time [sec]')\n",
    "        index = index + 1\n",
    "\n",
    "        f, t, Sxx = signal.spectrogram(data.A, fs=10, nperseg=64, noverlap=63, mode='psd')\n",
    "        plt.subplot(i+1, 4, index)\n",
    "        plt.pcolormesh(t, f, Sxx)\n",
    "        plt.title(\"64 frames\")\n",
    "        plt.ylabel('Frequency [Hz]')\n",
    "        plt.xlabel('Time [sec]')\n",
    "        # plt.savefig(file+\".pdf\", quality=100)\n",
    "        index = 0\n",
    "\n",
    "\n",
    "plt.show()"
   ]
  },
  {
   "cell_type": "code",
   "execution_count": null,
   "metadata": {
    "collapsed": true
   },
   "outputs": [],
   "source": [
    "    plt.figure(num=1, figsize=(16, 16))\n",
    "    \n",
    "    for root, dirs, files in os.walk(\"../same_range/\"):\n",
    "        for i, filename in enumerate(files):\n",
    "\n",
    "            file = open(root + \"/\" + filename, \"r\")\n",
    "            lines = file.readlines()\n",
    "            for line in lines:\n",
    "                [l, d] = line.split(\":\")\n",
    "                if ('WT' in l):\n",
    "                    d = d.replace('[', '').replace(']', '').replace('\\n', '')\n",
    "                    d = np.fromstring(d, dtype=int, sep=',')\n",
    "                    plt.title(filename)\n",
    "                    plt.plot(d)\n",
    "                    \n",
    "#                     weights = np.ones(N) / N\n",
    "#                     data = np.convolve(data.A, weights, mode='valid')\n",
    "#                     x = np.arange(data.size)\n",
    "#                     grad = np.gradient(data, x)\n",
    "#                     plt.subplot(length, 1, (i+1))\n",
    "    plt.show()\n"
   ]
  }
 ],
 "metadata": {
  "kernelspec": {
   "display_name": "Python 3",
   "language": "python",
   "name": "python3"
  },
  "language_info": {
   "codemirror_mode": {
    "name": "ipython",
    "version": 3.0
   },
   "file_extension": ".py",
   "mimetype": "text/x-python",
   "name": "python",
   "nbconvert_exporter": "python",
   "pygments_lexer": "ipython3",
   "version": "3.6.1"
  }
 },
 "nbformat": 4,
 "nbformat_minor": 0
}