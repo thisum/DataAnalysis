{
 "cells": [
  {
   "cell_type": "code",
   "execution_count": 1,
   "metadata": {},
   "outputs": [],
   "source": [
    "import numpy as np\n",
    "import pandas as pd \n",
    "import os\n",
    "\n",
    "from sklearn import svm\n",
    "from sklearn.grid_search import GridSearchCV\n",
    "\n",
    "from sklearn.metrics import accuracy_score\n",
    "from sklearn.metrics import confusion_matrix"
   ]
  },
  {
   "cell_type": "code",
   "execution_count": null,
   "metadata": {},
   "outputs": [],
   "source": [
    "#Loading the trainign and testing data sets  (Features) (Load your own data)\n",
    "xtrain=pd.read_table('/home/dl/data/X_train.txt',delim_whitespace=True,header=None)\n",
    "xtest=pd.read_table('/home/dl/data/X_test.txt',delim_whitespace=True,header=None)"
   ]
  },
  {
   "cell_type": "code",
   "execution_count": null,
   "metadata": {},
   "outputs": [],
   "source": [
    "#Loading the training and testing labels  (Load your own)\n",
    "ytrain=pd.read_table('/home/dl/data/y_train.txt',header=None)\n",
    "ytest=pd.read_table('/home/dl/data/y_test.txt',header=None)"
   ]
  },
  {
   "cell_type": "code",
   "execution_count": null,
   "metadata": {},
   "outputs": [],
   "source": [
    "#Data Pre processesing \n",
    "from sklearn.preprocessing import StandardScaler\n",
    "scaler = StandardScaler(copy=True, with_mean=True, with_std=True)\n",
    "# Fit only to the training data\n",
    "scaler.fit(xtrain)\n",
    "\n",
    "# Now apply the transformations to the data:\n",
    "xtrain = scaler.transform(xtrain)\n",
    "xtest = scaler.transform(xtest)"
   ]
  },
  {
   "cell_type": "code",
   "execution_count": null,
   "metadata": {},
   "outputs": [],
   "source": [
    "#using a support vector machine as a classifier \n",
    "classifier=svm.SVC()"
   ]
  },
  {
   "cell_type": "code",
   "execution_count": null,
   "metadata": {},
   "outputs": [],
   "source": [
    "# parameters=[{'kernel': ['rbf'], 'gamma': [0.001, 0.0001], 'C': [1, 10, 100, 1000]}, {'kernel': ['linear'], 'C': [1, 10, 100, 1000]}]"
   ]
  },
  {
   "cell_type": "code",
   "execution_count": null,
   "metadata": {},
   "outputs": [],
   "source": [
    "#If you want to use a neural network \n",
    "# from sklearn.neural_network import MLPClassifier\n",
    "# \n",
    "# classifier = MLPClassifier(hidden_layer_sizes=(128,128,128))"
   ]
  },
  {
   "cell_type": "code",
   "execution_count": null,
   "metadata": {},
   "outputs": [],
   "source": [
    "#Training the classifier with different params (just run this)\n",
    "# model=GridSearchCV(classifier,parameters,n_jobs=-1,cv=4,verbose=4)\n",
    "model.fit(xtrain.as_matrix(),ytrain.as_matrix().ravel().T)"
   ]
  },
  {
   "cell_type": "code",
   "execution_count": null,
   "metadata": {},
   "outputs": [],
   "source": [
    "#Now validating the model\n",
    "\n",
    "predicted_output_list=classifier.predict(X_test)"
   ]
  },
  {
   "cell_type": "code",
   "execution_count": null,
   "metadata": {},
   "outputs": [],
   "source": [
    "#Now we need to test the testing accuracy \n",
    "\n",
    "#Get both Ytest list and predicted_outputs \n",
    "\n",
    "#Calculate the accuracy\n",
    "\n",
    "testing_accuracy_score=accuracy_score(predicted_output_list, ytest)"
   ]
  },
  {
   "cell_type": "code",
   "execution_count": null,
   "metadata": {},
   "outputs": [],
   "source": [
    "#Here you can check the confution matrix\n",
    "confusion_matrix(predicted_output_list, ytest, labels=None, sample_weight=None)"
   ]
  }
 ],
 "metadata": {
  "kernelspec": {
   "display_name": "Python 3",
   "language": "python",
   "name": "python3"
  },
  "language_info": {
   "codemirror_mode": {
    "name": "ipython",
    "version": 3.0
   },
   "file_extension": ".py",
   "mimetype": "text/x-python",
   "name": "python",
   "nbconvert_exporter": "python",
   "pygments_lexer": "ipython3",
   "version": "3.5.2"
  }
 },
 "nbformat": 4,
 "nbformat_minor": 0
}