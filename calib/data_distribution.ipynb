{
 "cells": [
  {
   "cell_type": "code",
   "execution_count": 2,
   "metadata": {
    "collapsed": true
   },
   "outputs": [],
   "source": [
    "import numpy as np\n",
    "import pandas as pd\n",
    "import matplotlib.pyplot as plt\n",
    "from scipy import signal\n",
    "from scipy import fftpack\n",
    "import os\n",
    "%matplotlib inline"
   ]
  },
  {
   "cell_type": "code",
   "execution_count": 6,
   "metadata": {},
   "outputs": [],
   "source": [
    "FI_list = []\n",
    "PI_list = []\n",
    "TT_list = []\n",
    "\n",
    "file = open(\"../new_data_processing/raw/thisum_raw_data.txt\",\"r\")\n",
    "lines = file.readlines()\n",
    "lenghts = []\n",
    "data = {}\n",
    "for line in lines:\n",
    "    [l,d] = line.split(\":\")\n",
    "    d = d.replace('[', '').replace(']', '').replace('\\n', '')\n",
    "    d = np.fromstring(d, dtype=int, sep=',')\n",
    "    if 'FI-SO' in l:\n",
    "        FI_list.append(d)\n",
    "    elif 'FI-MI' in l:\n",
    "        PI_list.append(d)\n",
    "    elif 'FI-HR' in l:\n",
    "        TT_list.append(d)\n",
    "#     #     lenghts.append(d.size)\n",
    "#     #     data.update({l:d})\n",
    "#         plt.title(l)\n",
    "#         plt.plot(d)\n",
    "# plt.show()\n",
    "\n",
    "with open(\"/Users/thisum/Desktop/charts/data.csv\", \"a\") as write_file:\n",
    "    for ary in FI_list:\n",
    "        line = ','.join(str(e) for e in ary)\n",
    "        line = line.replace(\"[\", \"\").replace(\"]\", \"\").replace(\"\\n\", \"\").replace(\" \", \"\")\n",
    "        write_file.write(line + \",S\\n\")   \n",
    "        \n",
    "    for ary in PI_list:\n",
    "        line = ','.join(str(e) for e in ary)\n",
    "        line = line.replace(\"[\", \"\").replace(\"]\", \"\").replace(\"\\n\", \"\").replace(\" \", \"\")\n",
    "        write_file.write(line + \",M\\n\")  \n",
    "    \n",
    "    for ary in TT_list:\n",
    "        line = ','.join(str(e) for e in ary)\n",
    "        line = line.replace(\"[\", \"\").replace(\"]\", \"\").replace(\"\\n\", \"\").replace(\" \", \"\")\n",
    "        write_file.write(line + \",H\\n\")  \n",
    "# print(np.median(lenghts))\n",
    "# print(np.mean(lenghts))\n",
    "# print(np.std(lenghts))\n",
    "# print(np.amin(lenghts))\n",
    "# print(np.amin(lenghts))\n",
    "# plt.hist(lenghts, 40)  # arguments are passed to np.histogram\n",
    "# plt.title(\"Histogram with 'auto' bins\")\n",
    "# plt.show()"
   ]
  },
  {
   "cell_type": "code",
   "execution_count": 40,
   "metadata": {},
   "outputs": [
    {
     "name": "stdout",
     "output_type": "stream",
     "text": [
      "haimo_raw_data.txt\n",
      "46.0\n",
      "47.2936507937\n",
      "6.86036171511\n",
      "30\n",
      "64\n",
      "relaxed_raw_data.txt\n",
      "40.0\n",
      "40.0\n",
      "0.0\n",
      "40\n",
      "40\n",
      "samantha_raw_data.txt\n",
      "33.0\n",
      "32.119047619\n",
      "3.4540225982\n",
      "21\n",
      "41\n",
      "sue_raw_data.txt\n",
      "36.0\n",
      "37.2857142857\n",
      "7.75094171734\n",
      "23\n",
      "74\n",
      "thisum_raw_data.txt\n",
      "33.0\n",
      "33.2142857143\n",
      "6.46677361578\n",
      "23\n",
      "71\n",
      "vipula_raw_data.txt\n",
      "46.0\n",
      "45.7777777778\n",
      "7.48001452431\n",
      "29\n",
      "77\n",
      "yihan_raw_data.txt\n",
      "38.0\n",
      "39.6825396825\n",
      "6.71961213172\n",
      "29\n",
      "64\n",
      "Yilei_raw_data.txt\n",
      "41.0\n",
      "41.2301587302\n",
      "6.71430916728\n",
      "26\n",
      "59\n"
     ]
    }
   ],
   "source": [
    "for root, dirs, files in os.walk(\"../new_data_processing/\"):\n",
    "    for i, filename in enumerate(files):\n",
    "        file = open(root + \"/\"+ filename,\"r\")\n",
    "        print(filename)\n",
    "        lines = file.readlines()\n",
    "        lenghts = []\n",
    "        data = {}\n",
    "        for line in lines:\n",
    "            [l,d] = line.split(\":\")\n",
    "#             if 'WT' in l:\n",
    "            d = d.replace('[', '').replace(']', '').replace('\\n', '')\n",
    "            d = np.fromstring(d, dtype=int, sep=',')\n",
    "            lenghts.append(d.size)\n",
    "            data.update({l:d})\n",
    "\n",
    "            \n",
    "        print(np.median(lenghts))\n",
    "        print(np.mean(lenghts))\n",
    "        print(np.std(lenghts))\n",
    "        print(np.amin(lenghts))\n",
    "        print(np.amax(lenghts))"
   ]
  },
  {
   "cell_type": "code",
   "execution_count": 41,
   "metadata": {},
   "outputs": [
    {
     "name": "stdout",
     "output_type": "stream",
     "text": [
      "43.0\n",
      "45.3493975904\n",
      "9.15914676794\n",
      "30\n",
      "74\n"
     ]
    }
   ],
   "source": [
    "lenghts = []\n",
    "for root, dirs, files in os.walk(\"../new_data_processing/\"):\n",
    "    for i, filename in enumerate(files):\n",
    "        file = open(root + \"/\"+ filename,\"r\")\n",
    "        lines = file.readlines()\n",
    "\n",
    "        data = {}\n",
    "        for line in lines:\n",
    "            [l,d] = line.split(\":\")\n",
    "            if 'WT' in l:\n",
    "                d = d.replace('[', '').replace(']', '').replace('\\n', '')\n",
    "                d = np.fromstring(d, dtype=int, sep=',')\n",
    "                lenghts.append(d.size)\n",
    "                data.update({l:d})\n",
    "            \n",
    "print(np.median(lenghts))\n",
    "print(np.mean(lenghts))\n",
    "print(np.std(lenghts))\n",
    "print(np.amin(lenghts))\n",
    "print(np.amax(lenghts))"
   ]
  },
  {
   "cell_type": "code",
   "execution_count": null,
   "metadata": {
    "collapsed": true
   },
   "outputs": [],
   "source": [
    ""
   ]
  }
 ],
 "metadata": {
  "kernelspec": {
   "display_name": "Python 3",
   "language": "python",
   "name": "python3"
  },
  "language_info": {
   "codemirror_mode": {
    "name": "ipython",
    "version": 3.0
   },
   "file_extension": ".py",
   "mimetype": "text/x-python",
   "name": "python",
   "nbconvert_exporter": "python",
   "pygments_lexer": "ipython3",
   "version": "3.6.1"
  }
 },
 "nbformat": 4,
 "nbformat_minor": 0
}