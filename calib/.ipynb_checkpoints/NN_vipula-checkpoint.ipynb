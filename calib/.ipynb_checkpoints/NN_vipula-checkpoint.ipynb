{
 "cells": [
  {
   "cell_type": "code",
   "execution_count": 2,
   "metadata": {},
   "outputs": [],
   "source": [
    "import numpy as np\n",
    "import pandas as pd\n",
    "import matplotlib.pyplot as plt\n",
    "from scipy import signal\n",
    "from scipy import fftpack\n",
    "import os\n",
    "from sklearn.utils import shuffle\n",
    "from sklearn.model_selection import train_test_split\n",
    "from sklearn import svm\n",
    "\n",
    "from sklearn.metrics import accuracy_score\n",
    "from sklearn.metrics import confusion_matrix\n",
    "from sklearn.metrics import accuracy_score\n",
    "from sklearn.svm import SVC\n",
    "%matplotlib inline"
   ]
  },
  {
   "cell_type": "code",
   "execution_count": 8,
   "metadata": {},
   "outputs": [],
   "source": [
    "data_frame=pd.read_csv(\"../new_data_processing/same_range_grad/all.csv\", header=None)"
   ]
  },
  {
   "cell_type": "code",
   "execution_count": 9,
   "metadata": {},
   "outputs": [],
   "source": [
    "df1 = data_frame.loc[:,:38]\n",
    "lbls = data_frame.loc[:,39]\n",
    "lbls = lbls.replace(['M',)\n",
    "# df1=(df1-df1.mean())/df1.std()+0.000001 #(df1.max() - df1.min())"
   ]
  },
  {
   "cell_type": "code",
   "execution_count": 10,
   "metadata": {},
   "outputs": [],
   "source": [
    "x_train, x_test, y_train, y_test = train_test_split(df1, lbls, test_size=0.2, random_state=42)"
   ]
  },
  {
   "cell_type": "code",
   "execution_count": 11,
   "metadata": {},
   "outputs": [
    {
     "name": "stdout",
     "output_type": "stream",
     "text": [
      "0.408\n",
      "[[31 14]\n",
      " [16 17]]\n"
     ]
    },
    {
     "name": "stderr",
     "output_type": "stream",
     "text": [
      "/Library/Frameworks/Python.framework/Versions/3.7/lib/python3.7/site-packages/sklearn/svm/base.py:196: FutureWarning: The default value of gamma will change from 'auto' to 'scale' in version 0.22 to account better for unscaled features. Set gamma explicitly to 'auto' or 'scale' to avoid this warning.\n",
      "  \"avoid this warning.\", FutureWarning)\n"
     ]
    }
   ],
   "source": [
    "labels = ['H', 'S']\n",
    "svm = SVC()\n",
    "svm.fit(x_train, y_train)\n",
    "y_pred=svm.predict(x_test)\n",
    "score = accuracy_score(y_test, y_pred)\n",
    "print(score)\n",
    "print(confusion_matrix(y_test, y_pred, labels))"
   ]
  },
  {
   "cell_type": "code",
   "execution_count": 7,
   "metadata": {},
   "outputs": [
    {
     "name": "stdout",
     "output_type": "stream",
     "text": [
      "0.5625\n",
      "[[5 1]\n",
      " [2 4]]\n"
     ]
    }
   ],
   "source": [
    "from sklearn.neural_network import MLPClassifier\n",
    "clf = MLPClassifier(activation='relu', hidden_layer_sizes=(50,50), max_iter=100000, learning_rate='adaptive', early_stopping=False)\n",
    "clf.fit(x_train, y_train)\n",
    "y_pred=clf.predict(x_test)\n",
    "score = accuracy_score(y_test, y_pred)\n",
    "print(score)\n",
    "print(confusion_matrix(y_test, y_pred, labels))"
   ]
  },
  {
   "cell_type": "code",
   "execution_count": 527,
   "metadata": {
    "collapsed": true
   },
   "outputs": [],
   "source": [
    "#from sklearn.decomposition import PCA\n",
    "#pca = PCA(n_components=3)\n",
    "#pca.fit(df1)\n",
    "# x_test.to_csv(\"/Users/thisum/Desktop/data_files/testX.csv\", encoding='utf-8', index=False)\n",
    "# x_train.to_csv(\"/Users/thisum/Desktop/data_files/trainX.csv\", encoding='utf-8', index=False)\n",
    "# y_test.to_csv(\"/Users/thisum/Desktop/data_files/testY.csv\", encoding='utf-8', index=False)\n",
    "# y_train.to_csv(\"/Users/thisum/Desktop/data_files/trainY.csv\", encoding='utf-8', index=False)\n",
    "#columns = ['pca_%i' % i for i in range(3)]\n",
    "#df_pca = pd.DataFrame(pca.transform(df1), columns=columns, index=df1.index)\n",
    "#df_pca.head()\n",
    "#%matplotlib inline\n",
    "#import numpy as np\n",
    "#import matplotlib.pyplot as plt"
   ]
  },
  {
   "cell_type": "code",
   "execution_count": null,
   "metadata": {
    "collapsed": true
   },
   "outputs": [],
   "source": []
  }
 ],
 "metadata": {
  "kernelspec": {
   "display_name": "Python 3",
   "language": "python",
   "name": "python3"
  },
  "language_info": {
   "codemirror_mode": {
    "name": "ipython",
    "version": 3
   },
   "file_extension": ".py",
   "mimetype": "text/x-python",
   "name": "python",
   "nbconvert_exporter": "python",
   "pygments_lexer": "ipython3",
   "version": "3.7.0"
  }
 },
 "nbformat": 4,
 "nbformat_minor": 1
}
